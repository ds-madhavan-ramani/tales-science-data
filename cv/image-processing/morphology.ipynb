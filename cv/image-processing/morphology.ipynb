{
 "cells": [
  {
   "cell_type": "code",
   "execution_count": 1,
   "metadata": {},
   "outputs": [
    {
     "data": {
      "text/html": [
       "<style>\n",
       "\n",
       "    /* DOWNLOAD COMPUTER MODERN FONT JUST IN CASE */\n",
       "    @font-face {\n",
       "        font-family: \"Computer Modern\";\n",
       "        src: url('http://9dbb143991406a7c655e-aa5fcb0a5a4ec34cff238a2d56ca4144.r56.cf5.rackcdn.com/cmunss.otf');\n",
       "    }\n",
       "    @font-face {\n",
       "        font-family: \"Computer Modern\";\n",
       "        font-weight: bold;\n",
       "        src: url('http://9dbb143991406a7c655e-aa5fcb0a5a4ec34cff238a2d56ca4144.r56.cf5.rackcdn.com/cmunsx.otf');\n",
       "    }\n",
       "    @font-face {\n",
       "        font-family: \"Computer Modern\";\n",
       "        font-style: oblique;\n",
       "        src: url('http://9dbb143991406a7c655e-aa5fcb0a5a4ec34cff238a2d56ca4144.r56.cf5.rackcdn.com/cmunsi.otf');\n",
       "    }\n",
       "    @font-face {\n",
       "        font-family: \"Computer Modern\";\n",
       "        font-weight: bold;\n",
       "        font-style: oblique;\n",
       "        src: url('http://9dbb143991406a7c655e-aa5fcb0a5a4ec34cff238a2d56ca4144.r56.cf5.rackcdn.com/cmunso.otf');\n",
       "    }\n",
       "\n",
       "    /* GLOBAL TEXT FONT */\n",
       "    div#notebook,\n",
       "    div.output_area pre,\n",
       "    div.output_wrapper,\n",
       "    div.prompt {\n",
       "      font-family: Times new Roman, monospace !important;\n",
       "    }\n",
       "\n",
       "    /* CENTER FIGURE */\n",
       "    .output_png {\n",
       "        display: table-cell;\n",
       "        text-align: center;\n",
       "        vertical-align: middle;\n",
       "    }\n",
       "\n",
       "    /* LINK */\n",
       "    a {\n",
       "        color: #FF8000;\n",
       "    }\n",
       "\n",
       "    /* H1 */\n",
       "    h1 {\n",
       "        font-size: 42px !important;\n",
       "        text-align: center;\n",
       "        color: #FF8000;\n",
       "    }\n",
       "\n",
       "    /* H2 */\n",
       "    h2 {\n",
       "        font-size: 32px !important;\n",
       "    }\n",
       "\n",
       "    /* H2 */\n",
       "    h3 {\n",
       "        font-size: 24px !important;\n",
       "    }\n",
       "\n",
       "    /* H2 */\n",
       "    h4 {\n",
       "        font-size: 20px !important;\n",
       "    }\n",
       "\n",
       "    /* PARAGRAPH */\n",
       "    p {\n",
       "        font-size: 16px !important;\n",
       "        text-align: center;\n",
       "    }\n",
       "\n",
       "    /* LIST ITEM */\n",
       "    li {\n",
       "        font-size: 16px !important;\n",
       "    }\n",
       "\n",
       "</style>\n",
       "\n"
      ],
      "text/plain": [
       "<IPython.core.display.HTML object>"
      ]
     },
     "execution_count": 1,
     "metadata": {},
     "output_type": "execute_result"
    }
   ],
   "source": [
    "%run ../../common/import_all.py\n",
    "\n",
    "from common.setup_notebook import set_css_style, setup_matplotlib, config_ipython\n",
    "config_ipython()\n",
    "setup_matplotlib()\n",
    "set_css_style()"
   ]
  },
  {
   "cell_type": "markdown",
   "metadata": {},
   "source": [
    "# Morphological operations"
   ]
  },
  {
   "cell_type": "markdown",
   "metadata": {},
   "source": [
    "## What is morphology\n",
    "\n",
    "*Morphological operations* on a image take as input a [binary image](../some-glossary.ipynb#Binary-image) and a *structuring element* (usually a $3 \\times 3$ matrix, also known as *kernel*) and use it to transform the image into another one.\n",
    "\n",
    "<img src=\"../../imgs/kernel.png\" width=\"200\" align=\"left\" style=\"margin:0px 50px\"/>\n",
    "\n",
    "The structuring element can be, for instance, the matrix (its central point is called the *origin*):\n",
    "\n",
    "$$\n",
    "\\begin{bmatrix}\n",
    "\t1 & 1 & 1 \\\\\n",
    "\t1 & 1 & 1 \\\\\n",
    "\t1 & 1 & 1\n",
    "\\end{bmatrix}\n",
    "$$ \n",
    "\n",
    "and it get passed over each pixel of the image in such a way that the origin is overlayed to the pixel, so that corresponding values are compared: if values match, the image pixel gets set to a pre-defined value. In the figure, the kernel is represented by the matrix in blue, shifted over the image matrix in black. "
   ]
  },
  {
   "cell_type": "markdown",
   "metadata": {},
   "source": [
    "## Which are these operations\n",
    "\n",
    "The main morphological operations are\n",
    "\n",
    "* *Dilation*: enlarges objects \n",
    "* *Erosion*: shrinks objects\n",
    "* *Opening*: removes boundary pixels\n",
    "* *Closing*: fills bondary pixels\n",
    "\n",
    "There are several other ones, and for some more comprehensive explanations refer to [[1]](#1) and [[2]](#2).\n",
    "\n",
    "--- \n",
    "\n",
    "<img src=\"../../imgs/morphology1.jpg\" width=\"300\" align=\"left\" style=\"margin:20px 50px\"/>\n",
    "\n",
    "Dilation and erosion are the main morphological operations, all the other ones are combinations of these.\n",
    "\n",
    "Consider the binary image in the figure as an example, there is a black background and a foreground object.\n",
    "\n",
    "* *dilation* dilates the borders of the object\n",
    "* *erosion* erodes the borders of object\n",
    "\n",
    "In dilation, the borders of the foreground are expanded so the object appears enlarged; in erosion those borders get reduced, so the object appears shrunk. \n",
    "\n",
    "The *morphological gradient* is the difference between dilation and erosion, the result of which is the outline of the object.\n",
    "\n",
    "---\n",
    "\n",
    "<img src=\"../../imgs/opening-closing.png\" width=\"300\" align=\"right\" style=\"margin:0px 50px\"/>\n",
    "\n",
    "*Opening* consists in an erosion operation followed by dilation operation and it is used to remove noise. It is called like this because it can fill in (\"open\") a gap between bunches of pixels. \n",
    "\n",
    "*Closing* on the other hand, is dilation followed by erosion and what it does is filling in the small holes in the objects.\n",
    "\n",
    "Warning: note that in my drawing here, the one referring to closing, there shouldn't be any line between the two blocks of the closed image. You will forgive my mistake!\n",
    "\n",
    "---\n",
    "\n",
    "Other relevant operations are\n",
    "\n",
    "* *Top hat* is the difference between image and opening of image. \n",
    "* *Black hat* is the difference between image and closing of image\n",
    "* *Hit or miss* is done with two kernels: one used to erode the image and the other to erode the complement of image. Then an AND of the two results is performed."
   ]
  },
  {
   "cell_type": "markdown",
   "metadata": {},
   "source": [
    "## References\n",
    "\n",
    "1. <a name=\"1\"></a> [Morphology on HIPR](https://homepages.inf.ed.ac.uk/rbf/HIPR2/morops.htm)\n",
    "2. <a name=\"2\"></a> [Morphology on a course on Vision @ Univ of Auckland](https://www.cs.auckland.ac.nz/courses/compsci773s1c/lectures/ImageProcessing-html/topic4.htm#morpho)"
   ]
  },
  {
   "cell_type": "code",
   "execution_count": null,
   "metadata": {
    "collapsed": true
   },
   "outputs": [],
   "source": []
  }
 ],
 "metadata": {
  "kernelspec": {
   "display_name": "Python 3",
   "language": "python",
   "name": "python3"
  },
  "language_info": {
   "codemirror_mode": {
    "name": "ipython",
    "version": 3
   },
   "file_extension": ".py",
   "mimetype": "text/x-python",
   "name": "python",
   "nbconvert_exporter": "python",
   "pygments_lexer": "ipython3",
   "version": "3.6.3"
  }
 },
 "nbformat": 4,
 "nbformat_minor": 2
}
